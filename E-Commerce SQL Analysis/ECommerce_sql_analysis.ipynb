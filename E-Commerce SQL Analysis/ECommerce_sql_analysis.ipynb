{
 "cells": [
  {
   "cell_type": "markdown",
   "id": "ad123796-b50a-44a1-be56-fc0b9b015c6c",
   "metadata": {},
   "source": [
    "# E-commerce SQL Analysis"
   ]
  },
  {
   "cell_type": "markdown",
   "id": "c15ae0fd-f397-49b7-96d8-c616ef5c2b7d",
   "metadata": {
    "jp-MarkdownHeadingCollapsed": true,
    "tags": []
   },
   "source": [
    "## Business Problem\n",
    "\n",
    "In the bustling world of e-commerce, Olist has been a key player in revolutionizing the shopping experience for businesses of all sizes in Brazil since 2015. Olist is a Brazilian marketplace that operates in e-commerce. It works as a SaaS technology company and offers a marketplace solution to shopkeepers for most branches to increase their sales whether they have online presence or not. \n",
    "\n",
    "In this digital marketplace landscape, Olist faces the challenge of optimizing its operations and enhancing customer satisfaction. The abundance of data from the Brazilian e-commerce public dataset spanning 2016 to 2018 offers an opportunity to delve into the details of Olist's ecosystem. Our mission is to leverage this dataset to address a pressing business problem and unlock valuable insights that can steer Olist toward continued success.\n",
    "\n",
    "**Objectives**:\n",
    "\n",
    "I'm going to answer the following questions in this project:\n",
    "\n",
    "1. How many orders were placed and what revenue had Olist generated over time?\n",
    "2. What was the average order value, and how does it vary by product category or payment method?\n",
    "3. How many sellers are selling on Olist, and how does this number change over time?\n",
    "4. What is the average order cancellation rate on Olist?\n",
    "5. How many customers have made repeat purchases on Olist, and what percentage of total sales do they account for?\n",
    "6. What products are the most popular and how do customer ratings affect sales on Olist?\n",
    "7. What are the top regions with the highest number of orders and customer retention?\n",
    "\n",
    "**End Goal:**\n",
    "\n",
    "Through a comprehensive analysis of the provided dataset, my aim is get valuable insights for the company. These insights will help to improve operational efficiency and make better decisions for customer satisfaction and sales. \n",
    "\n",
    "\n",
    "\n",
    "\n",
    "\n"
   ]
  },
  {
   "cell_type": "markdown",
   "id": "e8ea431b-f74a-4d5c-b84f-57c5592991a3",
   "metadata": {},
   "source": [
    "## Data Model\n",
    "\n",
    "Olist shared on [Kaggle](https://www.kaggle.com/datasets/olistbr/brazilian-ecommerce/data) the dataset with 100k orders from 2016 to 2018 made at multiple marketplaces in Brazil. Its features allows viewing an order from multiple dimensions: from order status, price, payment and freight performance to customer location, product attributes and finally reviews written by customers. Here is the data model of the database that consists of 8 tables. I already connected the tables into one database and linked with each other with using MySQL.\n",
    "\n",
    "<div style=\"text-align:center;\">\n",
    "    <img src=\"plan.png\" width=\"800\"/>\n",
    "</div>\n",
    "\n",
    "\n",
    "The database contains the following tables:\n",
    "\n",
    "<details>\n",
    "  <summary>Orders dataset</summary>\n",
    "  <ul>\n",
    "    <li>Order ID</li>\n",
    "    <li>Customer ID</li>\n",
    "    <li>Order Status</li>\n",
    "    <li>Order Purchase Timestamp</li>\n",
    "    <li>Order Approved at</li>\n",
    "    <li>Order Delivered Carrier date</li>\n",
    "    <li>Order Delivered Customer date</li>\n",
    "    <li>Order Estimated delivered date</li>\n",
    "  </ul>\n",
    "</details>\n",
    "\n",
    "<details>\n",
    "  <summary>Customers dataset</summary>\n",
    "  <ul>\n",
    "    <li>Customer ID</li>\n",
    "    <li>Customer Unique ID</li>\n",
    "    <li>Customer Zip Code prefix</li>\n",
    "    <li>Customer City</li>\n",
    "    <li>Customer State</li>\n",
    "  </ul>\n",
    "</details>\n",
    "\n",
    "<details>\n",
    "  <summary>Geolocation dataset</summary>\n",
    "  <ul>\n",
    "    <li>Geolocation Zip Code prefix</li>\n",
    "    <li>Geolocation Lat.</li>\n",
    "    <li>Geolocation Lng.</li>\n",
    "    <li>Geolocation City</li>\n",
    "    <li>Geolocation State</li>\n",
    "  </ul>\n",
    "</details>\n",
    "\n",
    "<details>\n",
    "  <summary>Items dataset</summary>\n",
    "  <ul>\n",
    "    <li>Order ID</li>\n",
    "    <li>Order Item ID</li>\n",
    "    <li>Seller ID</li>\n",
    "    <li>Shipping limit date</li>\n",
    "    <li>Price</li>\n",
    "    <li>Freight Value</li>\n",
    "  </ul>\n",
    "</details>\n",
    "\n",
    "<details>\n",
    "  <summary>Payments dataset</summary>\n",
    "  <ul>\n",
    "    <li>Order ID</li>\n",
    "    <li>Payment Sequential</li>\n",
    "    <li>Payment Type</li>    \n",
    "    <li>Payment Installments</li>\n",
    "    <li>Payment Value</li>\n",
    "  </ul>\n",
    "</details>\n",
    "\n",
    "<details>\n",
    "  <summary>Products dataset</summary>\n",
    "  <ul>\n",
    "    <li>Product ID</li>\n",
    "    <li>Product Category name</li>\n",
    "    <li>Product Name length</li>\n",
    "    <li>Product Photos (quantity)</li>\n",
    "    <li>Product Weight (grams)</li>\n",
    "    <li>Product Length (cm)</li>\n",
    "    <li>Product Height (cm)</li>\n",
    "    <li>Product Width (cm)</li>\n",
    "  </ul>\n",
    "</details>\n",
    "\n",
    "<details>\n",
    "  <summary>Reviews dataset</summary>\n",
    "  <ul>\n",
    "      <li>Review ID</li>\n",
    "      <li>Order ID</li>\n",
    "      <li>Review Score</li>\n",
    "      <li>Review Comment title</li>\n",
    "      <li>Review Comment message</li>\n",
    "      <li>Review Creation date</li>\n",
    "      <li>Review Answer timestamp</li>\n",
    "  </ul>\n",
    "</details>\n",
    "\n",
    "\n",
    "<details>\n",
    "  <summary>Sellers dataset</summary>\n",
    "  <ul>\n",
    "      <li>Seller ID</li>\n",
    "      <li>Seller Zip Code prefix</li>\n",
    "      <li>Selller City</li>\n",
    "      <li>Seller State</li>\n",
    "  </ul>\n",
    "</details>\n",
    "\n",
    "<details>\n",
    "  <summary>Product category translation dataset</summary>\n",
    "  <ul>\n",
    "      <li>Product Category name (Portuguese)</li>\n",
    "      <li>Product Category name (English)</li>\n",
    "  </ul>\n",
    "</details>"
   ]
  },
  {
   "cell_type": "markdown",
   "id": "b1a15569-7b0d-4982-8abe-e970cce3faf4",
   "metadata": {},
   "source": [
    "## Data Preparation"
   ]
  },
  {
   "cell_type": "markdown",
   "id": "3518ac31-f827-45a2-8310-f8a084716715",
   "metadata": {},
   "source": [
    "Firstly I made the \"products\" table easier to query by adding a column \"product_category_name_English\". Then I connected it to the \"product_category_name_english\" column in the \"product_category_name_translation\" table, so we don't have to do extra work to join them. \n",
    "\n",
    "<img src=\"images/alter_name.png\" width=\"50%\"/>"
   ]
  },
  {
   "cell_type": "markdown",
   "id": "443b40ac-2cd9-4c39-a552-62e205df90d0",
   "metadata": {},
   "source": [
    "Then I updated the empty spaces in \"product_category_name\" and null values in \"product_category_name_english\" by changing them to \"N/A\". Two categories wete also not included in \"product_category_name_english\" so I added them.\n",
    "\n",
    "<img src=\"images/cleaning.png\" width=\"50%\"/>"
   ]
  },
  {
   "cell_type": "markdown",
   "id": "8e3c3eab-ab8f-49ba-9260-fbfbd1cf32dc",
   "metadata": {},
   "source": [
    "## Data Analysis"
   ]
  },
  {
   "cell_type": "markdown",
   "id": "ea1b10e5-0709-46fd-b09e-243627290331",
   "metadata": {},
   "source": [
    "### **1. How many orders were placed and what revenue had Olist generated over time?**"
   ]
  },
  {
   "cell_type": "markdown",
   "id": "31b11aa6-548e-4cea-8609-3c784e0d30ae",
   "metadata": {},
   "source": [
    "The timeframe of the dataset is from 2016-09-04 to 2018-10-17.\n",
    "\n",
    "We know that there are 8 different order statuses.\n",
    "\n",
    "<img src=\"images/statuses.png\" width=\"20%\"/>"
   ]
  },
  {
   "cell_type": "markdown",
   "id": "33265fb8-f718-4d05-a109-cf307246f1d0",
   "metadata": {},
   "source": [
    "In the total order number I will not include the cancelled orders and orders with empty \"order_delivered_customer_date\" column.\n",
    "\n",
    "<img src=\"images/num_orders.png\" width=\"30%\"/>\n",
    "\n",
    "So we can see that there were **98,816** orders placed through Olist."
   ]
  },
  {
   "cell_type": "markdown",
   "id": "ab877bf4-526c-46cb-a7ca-d1e4d1a4257f",
   "metadata": {},
   "source": [
    "In terms of total revenue, there were **$15,856,617** generated by Olist. \n",
    "\n",
    "<img src=\"images/total_revenue.png\" width=\"30%\"/>\n",
    "\n",
    "For sales change over time, I'll start with years first, then quarters and months.\n",
    "\n",
    "<img src=\"images/revenue_year.png\" width=\"30%\"/>\n",
    "\n",
    "We can see a clear year and quarter revenue growing tendency.\n",
    "\n",
    "\n",
    "<img src=\"images/revenue_quarter.png\" width=\"30%\"/>\n",
    "\n",
    "If we'll break down the revenue by month, we can note that the highest revenue was achieved in the November of 2017, although the next most successful months were in 2018 when almost each month's revenue was around 1 million. The are usually many Black Friday sales in November, so it may be the reason why 2017-11 was such a rich month (we don't have compatison data about 2018-11, and 2016-11 revenue was pretty low because Olist have just started it's operations).\n",
    "\n",
    "<img src=\"images/revenue_month_query.png\" width=\"30%\"/>\n",
    "\n",
    "<img src=\"images/revenue_month.png\" width=\"30%\"/>"
   ]
  },
  {
   "cell_type": "markdown",
   "id": "282ecb78-cd7b-4f39-b60b-3eec65855a90",
   "metadata": {},
   "source": [
    "### **2. What was the average order value, and how does it vary by product category or payment method?**"
   ]
  },
  {
   "cell_type": "markdown",
   "id": "04e5942e-60d5-4025-b071-7d4750a6db2e",
   "metadata": {},
   "source": [
    "Average order value (AOV) refers to the average amount spent by customers per transaction. It is calculated by dividing total revenue by total number of orders.It's an important metric for the business since it helps to understand customers' behaviours better and maximaze revenues. "
   ]
  },
  {
   "cell_type": "markdown",
   "id": "0da704f2-daf9-46a0-9d62-17ab9641aa80",
   "metadata": {},
   "source": [
    "First lets see how it differs by category. \n",
    "\n",
    "<img src=\"images/aov_query1.png\" width=\"30%\"/>\n",
    "\n",
    "We can note that categories related to technology, appliances, and safety demonstrate pretty high revenue performance, but generally top-performing categories have a diverse range.\n",
    "\n",
    "<div style=\"display: flex; justify-content: space-between;\">\n",
    "  <img src=\"images/aov_category1.png\" width=\"30%\" />\n",
    "  <img src=\"images/aov_category2.png\" width=\"30%\" />\n",
    "  <img src=\"images/aov_category3.png\" width=\"30%\" />\n",
    "</div>"
   ]
  },
  {
   "cell_type": "markdown",
   "id": "4e4a795e-2967-475e-943f-3671411e68ce",
   "metadata": {},
   "source": [
    "Now lets find out how the AOV differs by payment type:\n",
    "\n",
    "\n",
    "<img src=\"images/aov_payment.png\" width=\"30%\"/>\n",
    "\n",
    "\n",
    "Customers using credit cards show the highest AOV (**&dollar;180**), with Boleto payment following it with a not big difference (**&dollar;177**), while voucher payments have the lowest AOV (**&dollar;65**), suggesting that customers using vouchers tend to make smaller purchases. Boleto is a Brazilian payment system. \n",
    "Credit cards allow customers to make purchases beyond their immediate financial limit and Boleto allows to delay payment until a specified due date, which may be the reason why these 2 payment types are leading in terms of AOV. \n",
    "\n"
   ]
  },
  {
   "cell_type": "markdown",
   "id": "60e21538-a906-4b18-a14e-f73667e5b6bf",
   "metadata": {},
   "source": [
    "### **3. How many sellers are selling on Olist, and how does this number change over time?**"
   ]
  },
  {
   "cell_type": "markdown",
   "id": "bc126456-99a6-4648-a6fc-6359608e1144",
   "metadata": {},
   "source": [
    "There were 3,095 sellers on Olist.\n",
    "\n",
    "<img src=\"images/sellers_gen.png\" width=\"40%\"/>\n",
    "\n",
    "But I suppose that now all of these sellers are selling frequently, so let's find the number of sellers that are really working actively (I'll take 30 days as a requirement):\n",
    "\n",
    "<img src=\"images/active_sellers.png\" width=\"40%\"/>\n",
    "\n",
    "Next we can see the sellers change over time (I used part of the previous query 'active sellers' which is hidden in the middle). The number of sellers grew steadily over (the same tendency we saw with the revenues).\n",
    "\n",
    "<img src=\"images/sellers_change.png\" width=\"40%\"/>"
   ]
  },
  {
   "cell_type": "markdown",
   "id": "008175d3-16fd-4514-9e7f-0cbcb05cae6d",
   "metadata": {},
   "source": [
    "### **4. What is the average order cancellation rate on Olist?**"
   ]
  },
  {
   "cell_type": "markdown",
   "id": "57be3a58-87c1-47c3-9cef-d41da62aa58a",
   "metadata": {},
   "source": [
    "The cancelation rate is pretty low (**0.63%**), so I would say that Olist is doing a good job in this terms and it shouldn't be a problem.\n",
    "\n",
    "<img src=\"images/cancelation_rate.png\" width=\"40%\"/>"
   ]
  },
  {
   "cell_type": "markdown",
   "id": "538c3ae2-7429-4cd1-9a4c-b292532bf32c",
   "metadata": {},
   "source": [
    "### **5. How many customers have made repeat purchases on Olist, and what percentage of total sales do they account for?**"
   ]
  },
  {
   "cell_type": "markdown",
   "id": "1c83bc3e-eb6b-4d03-acfa-f79d40cbdc42",
   "metadata": {},
   "source": [
    "There was total 90,096 customers, and 2924 of them are returned customers which means that they made another purchase on Olist:\n",
    "\n",
    "<img src=\"images/customers_all.png\" width=\"40%\"/>\n",
    "\n",
    "<img src=\"images/customers_return.png\" width=\"40%\"/>\n",
    "\n",
    "Returned customers are important for the business, but it looks like they are not the main revenue source. As we figured out before, Olist had revenue of **&dollar;15,856,617**, and returned customers generated **&dollar;899,381**, which is only **5,6%** of the total revenue.\n",
    "\n",
    "<img src=\"images/return_customers_revenue.png\" width=\"40%\"/>\n"
   ]
  },
  {
   "cell_type": "markdown",
   "id": "a1c77133-a0f4-4ae4-9d47-3ed1d3a7aefd",
   "metadata": {},
   "source": [
    "### **6. What products are the most popular and how do customer ratings affect sales on Olist?**\n"
   ]
  },
  {
   "cell_type": "markdown",
   "id": "ac3a05d8-92c5-413c-92ae-afc0867b5189",
   "metadata": {},
   "source": [
    "The average product rating on Olist is 4.1, which can be considered good. Let's see what products were the most ordered and how it's connected to revenue and ratings.\n",
    "\n",
    "<img src=\"images/reviews_average.png\" width=\"40%\"/>\n",
    "<img src=\"images/reviews_products_query.png\" width=\"40%\"/>\n",
    "\n",
    "It's definetely hard to balance out the number of sold products and the product's reviews, and as we see the most sold products usually have the review score around **4.0**, while many less popular products can have much higher score. If we'll group it up by customers' sentiments, it's clear that overall product sales on Olist show positive performance of customer satisfaction, **78%** of all orders have high customer review score and bring **65%** of total revenue.\n",
    "\n",
    "<div style=\"display: flex; justify-content: space-between;\">\n",
    "  <img src=\"images/reviews_products1.png\" width=\"30%\" />\n",
    "  <img src=\"images/reviews_products2.png\" width=\"30%\" />\n",
    "  <img src=\"images/reviews_products3.png\" width=\"30%\" />\n",
    "</div>\n",
    "\n",
    "<img src=\"images/review_sentiment.png\" width=\"40%\"/>"
   ]
  },
  {
   "cell_type": "markdown",
   "id": "fa02ede2-85f9-442a-abb8-c45365d5b04f",
   "metadata": {},
   "source": [
    "### **7. What are the top regions with the highest number of orders and customer retention?**"
   ]
  },
  {
   "cell_type": "markdown",
   "id": "f0322b65-e008-4413-8081-a01952f03b3b",
   "metadata": {},
   "source": [
    "The top states by orders are shown in the table below. São Paulo, Rio de Janeiro, and Minas Gerais probably strongly lead in order numbers because their high population and economic significance.\n",
    "\n",
    "<div style=\"display: flex; justify-content: space-between;\">\n",
    "  <img src=\"images/geo_orders_query.png\" width=\"50%\" />\n",
    "  <img src=\"images/geo_orders.png\" width=\"20%\" />\n",
    "</div>"
   ]
  },
  {
   "cell_type": "markdown",
   "id": "9634435c-e451-4af5-8895-ae6a694ab1d0",
   "metadata": {},
   "source": [
    "I also wanted to know the customer retention rate by regions (CRR), which is shown in the table below. Aa we see it varies across Brazilian states, indicating regional differences in customer loyalty. Frankly, States like Acre (AC) and Rondonia (RO) show higher CRRs but it may be influenced by comparatively low number of orders in these states (small samples can lead to more significant fluctuations). But big states such as Sao Paulo (SP) and Rio de Janeiro (RJ) have slightly lower CRRs, possibly due to a bigger sample size or more competitive market/diverse consumer options. In general, the majority of states show relatively stable CRR around **6%**, indicating a moderate level of customer retention. It's important to pay attention to the states with the lowest CRR to identify the challenges in retaining customers in these regions and potentialy improve it in the future.\n",
    "\n",
    "<div style=\"display: flex; justify-content: space-between;\">\n",
    "  <img src=\"images/geo_crr_query.png\" width=\"50%\" />\n",
    "  <img src=\"images/geo_crr.png\" width=\"20%\" />\n",
    "</div>"
   ]
  },
  {
   "cell_type": "markdown",
   "id": "7c51c57e-5bdc-46d3-94dd-b1791cadd07d",
   "metadata": {},
   "source": [
    "## Conclusion"
   ]
  },
  {
   "cell_type": "markdown",
   "id": "856e4c44-43b3-411f-b097-063ee7b9d3e8",
   "metadata": {},
   "source": [
    "The summary of the analysis:\n",
    "\n",
    "**Order Trends Over Time**: Olist had a steady growth in revenue, especially notable in 2018. November 2017 had the highest monthly revenue, likely influenced by Black Friday sales.\n",
    "\n",
    "**Average Order Value (AOV)**: The AOV varies across product categories, with technology, appliances, and safety categories demonstrating high performance. Payment method analysis indicates that credit card users have the highest AOV, while voucher payments show the lowest, suggesting varying customer spending behaviors.\n",
    "\n",
    "**Seller Dynamics**: Olist had a total of 3,095 sellers, with a growing number of active sellers over time. This indicates a positive trend in seller engagement.\n",
    "\n",
    "**Order Cancellation Rate**: The order cancellation rate is low at 0.63%, suggesting Olist's effective order management.\n",
    "\n",
    "**Customer Re-Purchases**: Out of 90,096 customers, 2,924 made repeat purchases, contributing 5.6% to the total revenue. While returned customers are valuable, they don't dominate the revenue stream.\n",
    "\n",
    "**Product Popularity and Ratings**: Popular products often have an average review score around 4.0, highlighting the challenge of balancing sales volume and high ratings. Overall, customer satisfaction is positive, with 78% of orders having high review scores, generating 65% of total revenue.\n",
    "\n",
    "**Regional Analysis**: Sao Paulo, Rio de Janeiro, and Minas Gerais lead in the number of orders, likely due to their high population and economic significance. Customer retention rates vary across states, with smaller states like Acre and Rondonia showing higher CRR, possibly influenced by smaller sample sizes. Larger states like São Paulo and Rio de Janeiro have slightly lower CRR, suggesting a more competitive market.\n",
    "\n",
    "In general, the company has demonstrated positive progress. The growth in revenue and orders from active sellers indicates that the platform is effectively fulfilling its mission. "
   ]
  }
 ],
 "metadata": {
  "kernelspec": {
   "display_name": "Python 3 (ipykernel)",
   "language": "python",
   "name": "python3"
  },
  "language_info": {
   "codemirror_mode": {
    "name": "ipython",
    "version": 3
   },
   "file_extension": ".py",
   "mimetype": "text/x-python",
   "name": "python",
   "nbconvert_exporter": "python",
   "pygments_lexer": "ipython3",
   "version": "3.8.13"
  }
 },
 "nbformat": 4,
 "nbformat_minor": 5
}
